{
 "cells": [
  {
   "cell_type": "code",
   "execution_count": 2,
   "metadata": {
    "collapsed": false
   },
   "outputs": [],
   "source": [
    "from bs4 import BeautifulSoup\n",
    "import requests\n",
    "import re\n",
    "import urllib2\n",
    "import os\n"
   ]
  },
  {
   "cell_type": "code",
   "execution_count": 10,
   "metadata": {
    "collapsed": false
   },
   "outputs": [],
   "source": [
    "def get_soup(url):\n",
    "    return BeautifulSoup(requests.get(url).text, \"lxml\")\n",
    "\n",
    "def pullImages(query, image_type):\n",
    "    url = \"http://www.bing.com/images/search?q=\" + query + \\\n",
    "          \"&qft=+filterui:imagesize-large&FORM=R5IR3\"\n",
    "\n",
    "    #http://www.bing.com/images/search?q=u%20of%20u&qs=n&form=QBIR&pq=u%20of%20u&sc=8-6&sp=-1&sk=\n",
    "    soup = get_soup(url)\n",
    "    images = [a['src'] for a in soup.find_all(\"img\", {\"src\": re.compile(\"mm.bing.net\")})]\n",
    "\n",
    "    for img in images:\n",
    "        raw_img = urllib2.urlopen(img).read()\n",
    "        cntr = len([i for i in os.listdir(\"images\") if image_type in i]) + 1\n",
    "        f = open(\"images/\" + image_type + \"_\"+ str(cntr), 'wb')\n",
    "        f.write(raw_img)\n",
    "        f.close()"
   ]
  },
  {
   "cell_type": "code",
   "execution_count": 11,
   "metadata": {
    "collapsed": false
   },
   "outputs": [],
   "source": [
    "image_type = \"BYU\"\n",
    "query = \"BYU\"\n",
    "\n",
    "pullImages(query,image_type)\n"
   ]
  },
  {
   "cell_type": "code",
   "execution_count": 14,
   "metadata": {
    "collapsed": true
   },
   "outputs": [],
   "source": [
    "image_type = \"UofU\"\n",
    "query = \"University of Utah\"\n",
    "\n",
    "pullImages(query,image_type)"
   ]
  }
 ],
 "metadata": {
  "kernelspec": {
   "display_name": "Python 2",
   "language": "python",
   "name": "python2"
  },
  "language_info": {
   "codemirror_mode": {
    "name": "ipython",
    "version": 2
   },
   "file_extension": ".py",
   "mimetype": "text/x-python",
   "name": "python",
   "nbconvert_exporter": "python",
   "pygments_lexer": "ipython2",
   "version": "2.7.6"
  }
 },
 "nbformat": 4,
 "nbformat_minor": 0
}
