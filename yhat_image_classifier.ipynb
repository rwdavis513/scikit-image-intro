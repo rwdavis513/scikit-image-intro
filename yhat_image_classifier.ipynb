{
 "cells": [
  {
   "cell_type": "markdown",
   "metadata": {},
   "source": [
    "# Image Classification Example:\n",
    "Source: http://blog.yhathq.com/posts/image-classification-in-Python.html\n"
   ]
  },
  {
   "cell_type": "code",
   "execution_count": 2,
   "metadata": {
    "collapsed": false
   },
   "outputs": [],
   "source": [
    "import pandas as pd\n",
    "import numpy as np\n",
    "import pylab as pl\n",
    "import matplotlib.pyplot as plt\n",
    "import PIL\n",
    "from PIL import Image\n",
    "import os\n",
    "import base64\n",
    "from StringIO import StringIO"
   ]
  },
  {
   "cell_type": "code",
   "execution_count": 3,
   "metadata": {
    "collapsed": false
   },
   "outputs": [],
   "source": [
    "from sklearn.decomposition import RandomizedPCA\n",
    "from sklearn.neighbors import KNeighborsClassifier"
   ]
  },
  {
   "cell_type": "code",
   "execution_count": 4,
   "metadata": {
    "collapsed": false
   },
   "outputs": [],
   "source": [
    "%matplotlib inline"
   ]
  },
  {
   "cell_type": "markdown",
   "metadata": {},
   "source": [
    "<h2>Importing Image Data</h2>"
   ]
  },
  {
   "cell_type": "markdown",
   "metadata": {},
   "source": [
    "<h5>Create Processing Functions</h5>"
   ]
  },
  {
   "cell_type": "code",
   "execution_count": 5,
   "metadata": {
    "collapsed": false
   },
   "outputs": [],
   "source": [
    "#setup a standard image size; this will distort some images but will get everything into the same shape\n",
    "STANDARD_SIZE = (230, 170)\n",
    "def img_to_matrix(filename, verbose=False):\n",
    "    \"\"\"\n",
    "    takes a filename and turns it into a numpy array of RGB pixels\n",
    "    \"\"\"\n",
    "    img = PIL.Image.open(filename)\n",
    "    if verbose==True:\n",
    "        print \"changing size from %s to %s\" % (str(img.size), str(STANDARD_SIZE))\n",
    "    img = img.resize(STANDARD_SIZE)\n",
    "    img = list(img.getdata())\n",
    "    img = map(list, img)\n",
    "    img = np.array(img)\n",
    "    return img"
   ]
  },
  {
   "cell_type": "markdown",
   "metadata": {},
   "source": [
    "<h5>Define the location of your data and import it</h5>"
   ]
  },
  {
   "cell_type": "code",
   "execution_count": 18,
   "metadata": {
    "collapsed": true
   },
   "outputs": [],
   "source": [
    "# TODO PATH TO YOUR DATA\n",
    "img_dir = \"/home/rwdavis513/tutorials/imageClassification/images/\"\n",
    "imgCat = ['beach','mountain']\n",
    "images = [img_dir+ f for f in os.listdir(img_dir)]\n",
    "labels = [imgCat[0] if imgCat[0] in f.split('/')[-1] else imgCat[1] for f in images]"
   ]
  },
  {
   "cell_type": "code",
   "execution_count": 19,
   "metadata": {
    "collapsed": false
   },
   "outputs": [
    {
     "data": {
      "text/plain": [
       "array([[252, 204, 200, ..., 221, 221, 221],\n",
       "       [222, 222, 214, ..., 221, 221, 221],\n",
       "       [196, 225, 243, ..., 218, 218, 216],\n",
       "       ..., \n",
       "       [181, 233, 255, ..., 244, 221, 180],\n",
       "       [209, 222, 238, ..., 228, 221, 215],\n",
       "       [225, 220, 216, ..., 221, 221, 221]])"
      ]
     },
     "execution_count": 19,
     "metadata": {},
     "output_type": "execute_result"
    }
   ],
   "source": [
    "data = []\n",
    "for image in images:\n",
    "    img = img_to_matrix(image)\n",
    "    #img = flatten_image(img)\n",
    "    img = img.flatten('C')\n",
    "    data.append(img)\n",
    "\n",
    "data = np.array(data)\n",
    "data"
   ]
  },
  {
   "cell_type": "code",
   "execution_count": 20,
   "metadata": {
    "collapsed": false
   },
   "outputs": [
    {
     "data": {
      "text/plain": [
       "(54, 117300)"
      ]
     },
     "execution_count": 20,
     "metadata": {},
     "output_type": "execute_result"
    }
   ],
   "source": [
    "data.shape"
   ]
  },
  {
   "cell_type": "markdown",
   "metadata": {},
   "source": [
    "<h2>Creating Features</h2>"
   ]
  },
  {
   "cell_type": "markdown",
   "metadata": {},
   "source": [
    "<h5>Define a training and test set</h5>"
   ]
  },
  {
   "cell_type": "code",
   "execution_count": 21,
   "metadata": {
    "collapsed": false
   },
   "outputs": [],
   "source": [
    "is_train = np.random.uniform(0, 1, len(data)) <= 0.7\n",
    "y = np.where(np.array(labels)==imgCat[0], 1, 0)\n",
    "\n",
    "train_x, train_y = data[is_train], y[is_train]\n",
    "test_x, test_y = data[is_train==False], y[is_train==False]"
   ]
  },
  {
   "cell_type": "markdown",
   "metadata": {},
   "source": [
    "<h5>RandomizedPCA to create features</h5>\n",
    "<p>Before we actually create our feature vectors, we're going to show a demo of <code>RandomizedPCA</code> in 2 dimensions. This makes it easy to plot high dimensional data</p>"
   ]
  },
  {
   "cell_type": "code",
   "execution_count": 22,
   "metadata": {
    "collapsed": false
   },
   "outputs": [],
   "source": [
    "pca = RandomizedPCA(n_components=2)\n",
    "X = pca.fit_transform(data)\n",
    "df = pd.DataFrame({\"x\": X[:, 0], \"y\": X[:, 1], \"label\":np.where(y==1, imgCat[0], imgCat[1])})"
   ]
  },
  {
   "cell_type": "code",
   "execution_count": 23,
   "metadata": {
    "collapsed": false
   },
   "outputs": [
    {
     "data": {
      "text/plain": [
       "array([[-27098.37807709,  -3826.02516092],\n",
       "       [ 20116.4909018 , -12770.80741281],\n",
       "       [-14947.20588269,   7193.31285982],\n",
       "       [ -8409.89302586,  -5641.00961258],\n",
       "       [ -7655.18028938,    932.96113984],\n",
       "       [ -9890.38330368,   3596.54402063],\n",
       "       [ 16713.63158116,   4893.75159391],\n",
       "       [-11956.45268722, -10542.21940539],\n",
       "       [ -5526.1016472 ,   -582.49009333],\n",
       "       [ -8033.31522644,  -9758.51265444],\n",
       "       [-13139.59536209,  15687.06185178],\n",
       "       [ -9321.88480798,    444.57163995],\n",
       "       [-17444.32788834,   -793.24420745],\n",
       "       [ 11340.65893749,  -1386.73631956],\n",
       "       [ 13348.94745291,   6738.9383446 ],\n",
       "       [ 11446.82433617,   4931.97463515],\n",
       "       [ -6425.46485341, -12946.36033085],\n",
       "       [  6800.21731627,  -6238.90327637],\n",
       "       [  7535.68318669,  -2549.34078346],\n",
       "       [-16455.22584512, -10177.51069308],\n",
       "       [ 18799.72504723, -13482.6070283 ],\n",
       "       [-20850.90006088,   2193.79957322],\n",
       "       [  9975.88939808,  -7476.03186247],\n",
       "       [ 22175.51169395,  -8326.19987074],\n",
       "       [-12161.65763399,   5120.85861799],\n",
       "       [ 20473.07393928,  -3599.29232816],\n",
       "       [-11782.10764118,  -2679.80161814],\n",
       "       [ 15345.0685657 ,   3366.79904099],\n",
       "       [-11504.92008703,   -666.38176955],\n",
       "       [ -8027.66215691,  12679.53857244],\n",
       "       [  4487.41901195,  -7673.19099875],\n",
       "       [-17402.9882578 ,   5584.14602909],\n",
       "       [-19308.60059883,  -3557.07014349],\n",
       "       [ -8391.8250725 ,   -936.32873594],\n",
       "       [ 14237.93311947,   8525.73591813],\n",
       "       [ 13741.89374001,   6275.05221902],\n",
       "       [ 23479.48450078,   6148.57848043],\n",
       "       [ -4720.57291405,   9619.51949652],\n",
       "       [ -5858.70599419,  13177.10345482],\n",
       "       [ 17308.1233354 ,  13697.83039432],\n",
       "       [ -3869.4787388 ,  -5656.9075249 ],\n",
       "       [-13097.71311203,  11381.72284754],\n",
       "       [   389.48387824,  -3789.1324353 ],\n",
       "       [ -2647.97365393,  -4914.52395225],\n",
       "       [-13143.50837155,  -1889.8650882 ],\n",
       "       [ 16921.08903821,  -4514.101195  ],\n",
       "       [ -8826.66246842, -16181.49375985],\n",
       "       [-11533.9532844 ,   6516.95268339],\n",
       "       [ 10475.94693015, -13840.81400846],\n",
       "       [ 14853.77078252,    283.89690289],\n",
       "       [ 13457.04114819,  10914.16337488],\n",
       "       [ 13427.43206294,   9303.73483145],\n",
       "       [ -5377.40336807,   1002.90669622],\n",
       "       [ 17958.70240652,   6185.44705072]])"
      ]
     },
     "execution_count": 23,
     "metadata": {},
     "output_type": "execute_result"
    }
   ],
   "source": [
    "X"
   ]
  },
  {
   "cell_type": "code",
   "execution_count": 24,
   "metadata": {
    "collapsed": false
   },
   "outputs": [
    {
     "data": {
      "text/plain": [
       "<matplotlib.legend.Legend at 0x7f7f9a6a4490>"
      ]
     },
     "execution_count": 24,
     "metadata": {},
     "output_type": "execute_result"
    },
    {
     "data": {
      "image/png": "[encoded data removed]",
      "text/plain": [
       "<matplotlib.figure.Figure at 0x7f7f9a6a4710>"
      ]
     },
     "metadata": {},
     "output_type": "display_data"
    }
   ],
   "source": [
    "df.head()\n",
    "colors = [\"red\", \"yellow\"]\n",
    "for label, color in zip(df['label'].unique(), colors):\n",
    "    mask = df['label']==label\n",
    "    plt.scatter(df[mask]['x'], df[mask]['y'], c=color, label=label)\n",
    "plt.legend()"
   ]
  },
  {
   "cell_type": "markdown",
   "metadata": {},
   "source": [
    "<h2>RandomizedPCA in 5 dimensions</h2>\n",
    "<p>Instead of 2 dimenisons, we're going to do RandomizedPCA in 5 dimensions. This will make it a bit harder to visualize, but it will make it easier for some of the classifiers to work with the dataset.</p>"
   ]
  },
  {
   "cell_type": "code",
   "execution_count": 25,
   "metadata": {
    "collapsed": false
   },
   "outputs": [],
   "source": [
    "pca = RandomizedPCA(n_components=5)\n",
    "train_x = pca.fit_transform(train_x)\n",
    "test_x = pca.transform(test_x)"
   ]
  },
  {
   "cell_type": "markdown",
   "metadata": {},
   "source": [
    "<p>This gives our classifier a nice set of tabular data that we can then use to train the model</p>"
   ]
  },
  {
   "cell_type": "code",
   "execution_count": 26,
   "metadata": {
    "collapsed": false
   },
   "outputs": [
    {
     "data": {
      "text/plain": [
       "array([ 0.38591236,  0.12447478,  0.0773281 ,  0.04615667,  0.03974096])"
      ]
     },
     "execution_count": 26,
     "metadata": {},
     "output_type": "execute_result"
    }
   ],
   "source": [
    "pca.explained_variance_ratio_"
   ]
  },
  {
   "cell_type": "markdown",
   "metadata": {},
   "source": [
    "<p>We're going to be using a <code>K-Nearest Neighbors</code> classifier. Based on our set of training data, we're going to caclulate which training obersvations are closest to a given test point. Whichever class has the most votes wins.</p>"
   ]
  },
  {
   "cell_type": "code",
   "execution_count": 27,
   "metadata": {
    "collapsed": false
   },
   "outputs": [
    {
     "data": {
      "text/plain": [
       "KNeighborsClassifier(algorithm='auto', leaf_size=30, metric='minkowski',\n",
       "           metric_params=None, n_neighbors=5, p=2, weights='uniform')"
      ]
     },
     "execution_count": 27,
     "metadata": {},
     "output_type": "execute_result"
    }
   ],
   "source": [
    "knn = KNeighborsClassifier()\n",
    "knn.fit(train_x, train_y)"
   ]
  },
  {
   "cell_type": "markdown",
   "metadata": {},
   "source": [
    "# Model Accuracy"
   ]
  },
  {
   "cell_type": "markdown",
   "metadata": {},
   "source": [
    "<p>Now we'll see how accurate the model is on the training dataset and then the test dataset. </p>"
   ]
  },
  {
   "cell_type": "code",
   "execution_count": 53,
   "metadata": {
    "collapsed": false
   },
   "outputs": [
    {
     "data": {
      "text/html": [
       "<div style=\"max-height:1000px;max-width:1500px;overflow:auto;\">\n",
       "<table border=\"1\" class=\"dataframe\">\n",
       "  <thead>\n",
       "    <tr style=\"text-align: right;\">\n",
       "      <th>Predicted</th>\n",
       "      <th>0</th>\n",
       "      <th>1</th>\n",
       "    </tr>\n",
       "    <tr>\n",
       "      <th>Actual</th>\n",
       "      <th></th>\n",
       "      <th></th>\n",
       "    </tr>\n",
       "  </thead>\n",
       "  <tbody>\n",
       "    <tr>\n",
       "      <th>0</th>\n",
       "      <td>18</td>\n",
       "      <td>0</td>\n",
       "    </tr>\n",
       "    <tr>\n",
       "      <th>1</th>\n",
       "      <td>3</td>\n",
       "      <td>17</td>\n",
       "    </tr>\n",
       "  </tbody>\n",
       "</table>\n",
       "</div>"
      ],
      "text/plain": [
       "Predicted   0   1\n",
       "Actual           \n",
       "0          18   0\n",
       "1           3  17"
      ]
     },
     "execution_count": 53,
     "metadata": {},
     "output_type": "execute_result"
    }
   ],
   "source": [
    "pd.crosstab(train_y, knn.predict(train_x), rownames=[\"Actual\"], colnames=[\"Predicted\"])"
   ]
  },
  {
   "cell_type": "code",
   "execution_count": 31,
   "metadata": {
    "collapsed": false
   },
   "outputs": [
    {
     "name": "stdout",
     "output_type": "stream",
     "text": [
      "[0 0 0 0 1 1 0 0 0 0 0 0 0 1 1 1]\n",
      "[0 0 0 0 0 1 0 0 0 1 0 1 0 1 1 1]\n"
     ]
    }
   ],
   "source": [
    "pred_y = knn.predict(test_x)\n",
    "print(pred_y)\n",
    "print(test_y)"
   ]
  },
  {
   "cell_type": "code",
   "execution_count": 32,
   "metadata": {
    "collapsed": false
   },
   "outputs": [
    {
     "data": {
      "text/html": [
       "<div style=\"max-height:1000px;max-width:1500px;overflow:auto;\">\n",
       "<table border=\"1\" class=\"dataframe\">\n",
       "  <thead>\n",
       "    <tr style=\"text-align: right;\">\n",
       "      <th>Predicted</th>\n",
       "      <th>0</th>\n",
       "      <th>1</th>\n",
       "    </tr>\n",
       "    <tr>\n",
       "      <th>Actual</th>\n",
       "      <th></th>\n",
       "      <th></th>\n",
       "    </tr>\n",
       "  </thead>\n",
       "  <tbody>\n",
       "    <tr>\n",
       "      <th>0</th>\n",
       "      <td>9</td>\n",
       "      <td>1</td>\n",
       "    </tr>\n",
       "    <tr>\n",
       "      <th>1</th>\n",
       "      <td>2</td>\n",
       "      <td>4</td>\n",
       "    </tr>\n",
       "  </tbody>\n",
       "</table>\n",
       "</div>"
      ],
      "text/plain": [
       "Predicted  0  1\n",
       "Actual         \n",
       "0          9  1\n",
       "1          2  4"
      ]
     },
     "execution_count": 32,
     "metadata": {},
     "output_type": "execute_result"
    }
   ],
   "source": [
    "pd.crosstab(test_y, pred_y, rownames=[\"Actual\"], colnames=[\"Predicted\"])"
   ]
  },
  {
   "cell_type": "code",
   "execution_count": 49,
   "metadata": {
    "collapsed": false
   },
   "outputs": [],
   "source": [
    "listOfTestImages = [ x for (i,x) in enumerate(images) if is_train[i]==False]"
   ]
  },
  {
   "cell_type": "code",
   "execution_count": 51,
   "metadata": {
    "collapsed": false
   },
   "outputs": [
    {
     "name": "stdout",
     "output_type": "stream",
     "text": [
      "/home/rwdavis513/tutorials/imageClassification/images/mountain_13\n",
      "/home/rwdavis513/tutorials/imageClassification/images/beach_26\n",
      "/home/rwdavis513/tutorials/imageClassification/images/beach_1\n"
     ]
    }
   ],
   "source": [
    "for i,img in enumerate(listOfTestImages):\n",
    "    if pred_y[i] != test_y[i]:\n",
    "        print(img)"
   ]
  }
 ],
 "metadata": {
  "kernelspec": {
   "display_name": "Python 2",
   "language": "python",
   "name": "python2"
  },
  "language_info": {
   "codemirror_mode": {
    "name": "ipython",
    "version": 2
   },
   "file_extension": ".py",
   "mimetype": "text/x-python",
   "name": "python",
   "nbconvert_exporter": "python",
   "pygments_lexer": "ipython2",
   "version": "2.7.6"
  }
 },
 "nbformat": 4,
 "nbformat_minor": 0
}
